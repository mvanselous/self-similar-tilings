{
 "cells": [
  {
   "cell_type": "markdown",
   "metadata": {},
   "source": [
    "# Outline For Project\n",
    "1. Input three integers $p,q,r$. These define the polynomal:\n",
    "$\\lambda^3 + -p\\lambda^{n-1} + q\\lambda + r = 0$\n",
    "2. Find the perron root for the given polynomail.\n",
    "3. Using this root, construct the free group (and the resulting three parallelograms) given by: \n",
    "$F(a,b,c)$ where $a=1$, $b=\\lambda$, $c = \\lambda^2$.\n",
    "4. Solve for the endomorphism $\\phi (F(a))$:\n",
    "5. Use this endomorphism to approximate the three translation-self-similar tiles (and graph them)."
   ]
  },
  {
   "cell_type": "code",
   "execution_count": 6,
   "metadata": {},
   "outputs": [],
   "source": [
    "import numpy as np"
   ]
  },
  {
   "cell_type": "code",
   "execution_count": 7,
   "metadata": {},
   "outputs": [],
   "source": [
    "def complex_modulus(numb):\n",
    "    return sqrt( imag(numb)**2+real(numb)**2 )\n",
    "\n",
    "def find_lambda(p,q,r,n=3):\n",
    "    #Not currently interested in testing n > 3\n",
    "    assert (min(p,q,r-1) >= 0 ) ,\"Invalid Inputs\"\n",
    "    f(l) = l**n - p*l**(n-1) + q*l + r\n",
    "    max_modulus = 0\n",
    "    for root in solve(f,l,solution_dict=True):\n",
    "        print('*'*20)\n",
    "        print(root)\n",
    "        if complex_modulus(root[l]) > max_modulus:\n",
    "            max_modulus = complex_modulus\n",
    "            complex_perron = root[l]\n",
    "    return f(l), complex_perron\n",
    "    \n",
    "def create_freeGroup(l):\n",
    "    return [1,l,l*l]"
   ]
  },
  {
   "cell_type": "code",
   "execution_count": 8,
   "metadata": {},
   "outputs": [],
   "source": [
    "def generate_poly(u,w):\n",
    "    ux,uy =real(u), imag(u)\n",
    "    wx,wy = real(w), imag(w)\n",
    "    pts  = [(0,0),(ux,uy),(ux+wx,uy+wy),(wx,wy)]\n",
    "    return pts, polygon(pts,fill=False)"
   ]
  },
  {
   "cell_type": "code",
   "execution_count": 9,
   "metadata": {},
   "outputs": [],
   "source": [
    "def create_polys(freeGroup):\n",
    "    poly_list = [generate_poly(freeGroup[0],freeGroup[1]),\n",
    "                 generate_poly(freeGroup[1],freeGroup[2]),\n",
    "                 generate_poly(freeGroup[0],freeGroup[2])]\n",
    "    show( sum(poly_list),aspect_ratio=1 ) \n",
    "    return _, poly_list\n"
   ]
  },
  {
   "cell_type": "code",
   "execution_count": 10,
   "metadata": {},
   "outputs": [],
   "source": [
    "class region:\n",
    "    #attempting to track the evolution of this region by \n",
    "    #applying phi to the head of each vector. In a ccw motion.\n",
    "    \n",
    "    def __init__(self,l,*init_pts):\n",
    "        #init_pts = [[(x1,y1),pt1_type],[(x2,y2),pt2_type], ...] \n",
    "        self.l = l    \n",
    "        self.pts = []\n",
    "        for init_pt in init_pts:\n",
    "            self.pts.append( point(init_pt) )        \n",
    "    \n",
    "    def evolve(self):\n",
    "        for pt in self.pts:\n",
    "            if pt.py_type == 0:\n",
    "                pt.loc = pt.loc * self.l\n",
    "                pt.type = 1\n",
    "                self.pts.append(point( pt.loc*self.l ,2))\n",
    "            else:\n",
    "                pt.loc = pt.loc * self.l\n",
    "                pt.type += 1;\n",
    "                pt.type = py.type % 3 #this could be generalized in the future\n",
    "                \n",
    "    def show_region(self):\n",
    "        polygon(self.pts,aspect_ratio = 1,fill = False)\n",
    "            \n",
    "class point:\n",
    "    #these are the points that make up the region.\n",
    "    #We need to store their type and position.\n",
    "    def __init__(self, (x, y), pt_type):\n",
    "        self.pt_type = pt_type\n",
    "        self.loc = np.array([x,y])\n"
   ]
  },
  {
   "cell_type": "code",
   "execution_count": 14,
   "metadata": {},
   "outputs": [
    {
     "name": "stdout",
     "output_type": "stream",
     "text": [
      "********************\n",
      "{l: -1/6*(3*sqrt(11)*sqrt(3) - 17)^(1/3)*(I*sqrt(3) + 1) + 1/3*(-I*sqrt(3) + 1)/(3*sqrt(11)*sqrt(3) - 17)^(1/3) + 1/3}\n",
      "********************\n",
      "{l: -1/6*(3*sqrt(11)*sqrt(3) - 17)^(1/3)*(-I*sqrt(3) + 1) - 1/3*(-I*sqrt(3) - 1)/(3*sqrt(11)*sqrt(3) - 17)^(1/3) + 1/3}\n",
      "********************\n",
      "{l: 1/3*(3*sqrt(11)*sqrt(3) - 17)^(1/3) - 2/3/(3*sqrt(11)*sqrt(3) - 17)^(1/3) + 1/3}\n"
     ]
    }
   ],
   "source": [
    "_,l = find_lambda(1,1,1)"
   ]
  },
  {
   "cell_type": "code",
   "execution_count": 15,
   "metadata": {},
   "outputs": [
    {
     "data": {
      "text/plain": [
       "[1,\n",
       " -1/6*(3*sqrt(11)*sqrt(3) - 17)^(1/3)*(I*sqrt(3) + 1) + 1/3*(-I*sqrt(3) + 1)/(3*sqrt(11)*sqrt(3) - 17)^(1/3) + 1/3,\n",
       " 1/36*((3*sqrt(11)*sqrt(3) - 17)^(1/3)*(I*sqrt(3) + 1) - 2*(-I*sqrt(3) + 1)/(3*sqrt(11)*sqrt(3) - 17)^(1/3) - 2)^2]"
      ]
     },
     "execution_count": 15,
     "metadata": {},
     "output_type": "execute_result"
    }
   ],
   "source": [
    "sides = create_freeGroup(l); sides"
   ]
  },
  {
   "cell_type": "code",
   "execution_count": null,
   "metadata": {},
   "outputs": [],
   "source": [
    "  "
   ]
  },
  {
   "cell_type": "code",
   "execution_count": null,
   "metadata": {},
   "outputs": [],
   "source": []
  },
  {
   "cell_type": "code",
   "execution_count": 5,
   "metadata": {},
   "outputs": [
    {
     "name": "stdout",
     "output_type": "stream",
     "text": [
      "********************\n",
      "{l: -1/6*(3*sqrt(11)*sqrt(3) - 17)^(1/3)*(I*sqrt(3) + 1) + 1/3*(-I*sqrt(3) + 1)/(3*sqrt(11)*sqrt(3) - 17)^(1/3) + 1/3}\n",
      "********************\n",
      "{l: -1/6*(3*sqrt(11)*sqrt(3) - 17)^(1/3)*(-I*sqrt(3) + 1) - 1/3*(-I*sqrt(3) - 1)/(3*sqrt(11)*sqrt(3) - 17)^(1/3) + 1/3}\n",
      "********************\n",
      "{l: 1/3*(3*sqrt(11)*sqrt(3) - 17)^(1/3) - 2/3/(3*sqrt(11)*sqrt(3) - 17)^(1/3) + 1/3}\n",
      "********************\n"
     ]
    },
    {
     "data": {
      "text/plain": [
       "-1/6*(3*sqrt(11)*sqrt(3) - 17)^(1/3)*(I*sqrt(3) + 1) + 1/3*(-I*sqrt(3) + 1)/(3*sqrt(11)*sqrt(3) - 17)^(1/3) + 1/3"
      ]
     },
     "execution_count": 5,
     "metadata": {},
     "output_type": "execute_result"
    }
   ],
   "source": [
    "my_function, l = find_lambda(1,1,1); print('*'*20); l"
   ]
  },
  {
   "cell_type": "code",
   "execution_count": 6,
   "metadata": {},
   "outputs": [
    {
     "data": {
      "text/plain": [
       "l^3 - l^2 + l + 1"
      ]
     },
     "execution_count": 6,
     "metadata": {},
     "output_type": "execute_result"
    }
   ],
   "source": [
    "my_function"
   ]
  },
  {
   "cell_type": "code",
   "execution_count": 7,
   "metadata": {},
   "outputs": [
    {
     "name": "stdout",
     "output_type": "stream",
     "text": [
      "**********\n",
      "1\n",
      "**********\n",
      "-1/6*(3*sqrt(11)*sqrt(3) - 17)^(1/3)*(I*sqrt(3) + 1) + 1/3*(-I*sqrt(3) + 1)/(3*sqrt(11)*sqrt(3) - 17)^(1/3) + 1/3\n",
      "**********\n",
      "1/36*((3*sqrt(11)*sqrt(3) - 17)^(1/3)*(I*sqrt(3) + 1) - 2*(-I*sqrt(3) + 1)/(3*sqrt(11)*sqrt(3) - 17)^(1/3) - 2)^2\n"
     ]
    }
   ],
   "source": [
    "freeGroup = create_freeGroup(l)\n",
    "\n",
    "for item in freeGroup:\n",
    "    print('*'*10)\n",
    "    print(item)"
   ]
  },
  {
   "cell_type": "code",
   "execution_count": 10,
   "metadata": {},
   "outputs": [
    {
     "data": {
      "text/plain": [
       "[1,\n",
       " -1/6*(3*sqrt(11)*sqrt(3) - 17)^(1/3)*(I*sqrt(3) + 1) + 1/3*(-I*sqrt(3) + 1)/(3*sqrt(11)*sqrt(3) - 17)^(1/3) + 1/3,\n",
       " 1/36*((3*sqrt(11)*sqrt(3) - 17)^(1/3)*(I*sqrt(3) + 1) - 2*(-I*sqrt(3) + 1)/(3*sqrt(11)*sqrt(3) - 17)^(1/3) - 2)^2]"
      ]
     },
     "execution_count": 10,
     "metadata": {},
     "output_type": "execute_result"
    }
   ],
   "source": [
    "freeGroup"
   ]
  },
  {
   "cell_type": "code",
   "execution_count": 11,
   "metadata": {},
   "outputs": [],
   "source": [
    "sample = create_polys(freeGroup)"
   ]
  },
  {
   "cell_type": "code",
   "execution_count": 12,
   "metadata": {},
   "outputs": [
    {
     "data": {
      "image/png": "[encoded data removed]",
      "text/plain": [
       "Graphics object consisting of 3 graphics primitives"
      ]
     },
     "metadata": {},
     "output_type": "display_data"
    }
   ],
   "source": [
    "show( sum(sample) )"
   ]
  },
  {
   "cell_type": "code",
   "execution_count": 15,
   "metadata": {},
   "outputs": [
    {
     "data": {
      "image/png": "[encoded data removed]",
      "text/plain": [
       "Graphics object consisting of 1 graphics primitive"
      ]
     },
     "metadata": {},
     "output_type": "display_data"
    }
   ],
   "source": [
    "show ( sample[2] )"
   ]
  },
  {
   "cell_type": "code",
   "execution_count": 19,
   "metadata": {},
   "outputs": [
    {
     "name": "stdout",
     "output_type": "stream",
     "text": [
      "(1.0, 0.0)\n"
     ]
    }
   ],
   "source": [
    "print(sample[2][0][1])"
   ]
  },
  {
   "cell_type": "code",
   "execution_count": 103,
   "metadata": {},
   "outputs": [
    {
     "data": {
      "text/plain": [
       "[1.00000000000000, 2.00000000000000, 1.00000000000000, 2.00000000000000]"
      ]
     },
     "execution_count": 103,
     "metadata": {},
     "output_type": "execute_result"
    }
   ],
   "source": [
    "u+u"
   ]
  },
  {
   "cell_type": "code",
   "execution_count": 120,
   "metadata": {},
   "outputs": [],
   "source": [
    "out = generate_poly(u,w)"
   ]
  },
  {
   "cell_type": "code",
   "execution_count": 135,
   "metadata": {},
   "outputs": [
    {
     "data": {
      "text/plain": [
       "-1/6*(3*sqrt(11)*sqrt(3) - 17)^(1/3)*(I*sqrt(3) + 1) + 1/3*(-I*sqrt(3) + 1)/(3*sqrt(11)*sqrt(3) - 17)^(1/3) + 1/3"
      ]
     },
     "execution_count": 135,
     "metadata": {},
     "output_type": "execute_result"
    }
   ],
   "source": [
    "l"
   ]
  },
  {
   "cell_type": "code",
   "execution_count": 21,
   "metadata": {},
   "outputs": [
    {
     "ename": "TypeError",
     "evalue": "can't multiply sequence by non-int of type 'list'",
     "output_type": "error",
     "traceback": [
      "\u001b[0;31m---------------------------------------------------------------------------\u001b[0m",
      "\u001b[0;31mTypeError\u001b[0m                                 Traceback (most recent call last)",
      "\u001b[0;32m<ipython-input-21-566b063c7404>\u001b[0m in \u001b[0;36m<module>\u001b[0;34m()\u001b[0m\n\u001b[0;32m----> 1\u001b[0;31m \u001b[0;34m[\u001b[0m\u001b[0mInteger\u001b[0m\u001b[0;34m(\u001b[0m\u001b[0;36m1\u001b[0m\u001b[0;34m)\u001b[0m\u001b[0;34m,\u001b[0m\u001b[0mInteger\u001b[0m\u001b[0;34m(\u001b[0m\u001b[0;36m2\u001b[0m\u001b[0;34m)\u001b[0m\u001b[0;34m]\u001b[0m\u001b[0;34m*\u001b[0m\u001b[0;34m[\u001b[0m\u001b[0mInteger\u001b[0m\u001b[0;34m(\u001b[0m\u001b[0;36m3\u001b[0m\u001b[0;34m)\u001b[0m\u001b[0;34m,\u001b[0m\u001b[0mInteger\u001b[0m\u001b[0;34m(\u001b[0m\u001b[0;36m4\u001b[0m\u001b[0;34m)\u001b[0m\u001b[0;34m]\u001b[0m\u001b[0;34m\u001b[0m\u001b[0m\n\u001b[0m",
      "\u001b[0;31mTypeError\u001b[0m: can't multiply sequence by non-int of type 'list'"
     ]
    }
   ],
   "source": [
    "[1,2]*[3,4]"
   ]
  },
  {
   "cell_type": "code",
   "execution_count": 24,
   "metadata": {},
   "outputs": [
    {
     "data": {
      "text/plain": [
       "-1/6*(3*sqrt(11)*sqrt(3) - 17)^(1/3)*(I*sqrt(3) + 1) + 1/3*(-I*sqrt(3) + 1)/(3*sqrt(11)*sqrt(3) - 17)^(1/3) + 1/3"
      ]
     },
     "execution_count": 24,
     "metadata": {},
     "output_type": "execute_result"
    }
   ],
   "source": [
    "l"
   ]
  },
  {
   "cell_type": "code",
   "execution_count": 25,
   "metadata": {},
   "outputs": [
    {
     "data": {
      "text/plain": [
       "[1,\n",
       " -1/6*(3*sqrt(11)*sqrt(3) - 17)^(1/3)*(I*sqrt(3) + 1) + 1/3*(-I*sqrt(3) + 1)/(3*sqrt(11)*sqrt(3) - 17)^(1/3) + 1/3,\n",
       " 1/36*((3*sqrt(11)*sqrt(3) - 17)^(1/3)*(I*sqrt(3) + 1) - 2*(-I*sqrt(3) + 1)/(3*sqrt(11)*sqrt(3) - 17)^(1/3) - 2)^2]"
      ]
     },
     "execution_count": 25,
     "metadata": {},
     "output_type": "execute_result"
    }
   ],
   "source": [
    "freeGroup"
   ]
  },
  {
   "cell_type": "code",
   "execution_count": 41,
   "metadata": {},
   "outputs": [
    {
     "data": {
      "image/png": "[encoded data removed]",
      "text/plain": [
       "Graphics object consisting of 4 graphics primitives"
      ]
     },
     "metadata": {},
     "output_type": "display_data"
    }
   ],
   "source": [
    "out = run_model(freeGroup[0],freeGroup[1],l)\n",
    "show(out)"
   ]
  },
  {
   "cell_type": "code",
   "execution_count": 43,
   "metadata": {},
   "outputs": [],
   "source": [
    "init_pts = []\n",
    "init_pts.append()\n",
    "test = region(l,)"
   ]
  },
  {
   "cell_type": "code",
   "execution_count": 47,
   "metadata": {},
   "outputs": [
    {
     "data": {
      "text/plain": [
       "array([1, 2])"
      ]
     },
     "execution_count": 47,
     "metadata": {},
     "output_type": "execute_result"
    }
   ],
   "source": [
    "test_pt = point((1,2),'a')\n",
    "test_pt.loc"
   ]
  },
  {
   "cell_type": "code",
   "execution_count": 1,
   "metadata": {},
   "outputs": [],
   "source": [
    "test= 0"
   ]
  },
  {
   "cell_type": "code",
   "execution_count": 5,
   "metadata": {},
   "outputs": [
    {
     "name": "stdout",
     "output_type": "stream",
     "text": [
      "1\n",
      "2\n",
      "0\n",
      "1\n",
      "2\n",
      "0\n"
     ]
    }
   ],
   "source": [
    "for i in range(6):\n",
    "    i += 1 \n",
    "    i = i % 3\n",
    "    print(i)"
   ]
  },
  {
   "cell_type": "code",
   "execution_count": null,
   "metadata": {},
   "outputs": [],
   "source": []
  }
 ],
 "metadata": {
  "kernelspec": {
   "display_name": "SageMath 8.6",
   "language": "",
   "name": "sagemath"
  },
  "language_info": {
   "codemirror_mode": {
    "name": "ipython",
    "version": 2
   },
   "file_extension": ".py",
   "mimetype": "text/x-python",
   "name": "python",
   "nbconvert_exporter": "python",
   "pygments_lexer": "ipython2",
   "version": "2.7.16"
  }
 },
 "nbformat": 4,
 "nbformat_minor": 2
}
