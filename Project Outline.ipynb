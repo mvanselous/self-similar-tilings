{
 "cells": [
  {
   "cell_type": "markdown",
   "metadata": {},
   "source": [
    "# Outline For Project\n",
    "1. Input three integers $p,q,r$. These define the polynomal:\n",
    "$\\lambda^3 + -p\\lambda^{n-1} + q\\lambda + r = 0$\n",
    "2. Find the perron root for the given polynomail.\n",
    "3. Using this root, construct the free group (and the resulting three parallelograms) given by: \n",
    "$F(a,b,c)$ where $a=1$, $b=\\lambda$, $c = \\lambda^2$.\n",
    "4. Solve for the endomorphism $\\phi (F(a))$:\n",
    "5. Use this endomorphism to approximate the three translation-self-similar tiles (and graph them)."
   ]
  },
  {
   "cell_type": "code",
   "execution_count": 80,
   "metadata": {},
   "outputs": [],
   "source": [
    "def complex_modulus(numb):\n",
    "    return sqrt( imag(numb)**2+real(numb)**2 )\n",
    "\n",
    "def find_lambda(p,q,r,n=3):\n",
    "    #Not currently interested in testing n > 3\n",
    "    assert (min(p,q,r-1) >= 0 ) ,\"Invalid Inputs\"\n",
    "    f(l) = l**n - p*l**(n-1) + q*l + r\n",
    "    max_modulus = 0\n",
    "    for root in solve(f,l,solution_dict=True):\n",
    "        print('*'*20)\n",
    "        print(root)\n",
    "        if complex_modulus(root[l]) > max_modulus:\n",
    "            max_modulus = complex_modulus\n",
    "            complex_perron = root[l]\n",
    "    return f(l), complex_perron\n",
    "    \n",
    "def create_freeGroup(l):\n",
    "    return [1,l,l*l]\n",
    "    \n",
    "    \n",
    "    \n",
    "    \n",
    "    "
   ]
  },
  {
   "cell_type": "code",
   "execution_count": 131,
   "metadata": {},
   "outputs": [
    {
     "name": "stdout",
     "output_type": "stream",
     "text": [
      "********************\n",
      "{l: -1/6*(3*sqrt(11)*sqrt(3) - 17)^(1/3)*(I*sqrt(3) + 1) + 1/3*(-I*sqrt(3) + 1)/(3*sqrt(11)*sqrt(3) - 17)^(1/3) + 1/3}\n",
      "********************\n",
      "{l: -1/6*(3*sqrt(11)*sqrt(3) - 17)^(1/3)*(-I*sqrt(3) + 1) - 1/3*(-I*sqrt(3) - 1)/(3*sqrt(11)*sqrt(3) - 17)^(1/3) + 1/3}\n",
      "********************\n",
      "{l: 1/3*(3*sqrt(11)*sqrt(3) - 17)^(1/3) - 2/3/(3*sqrt(11)*sqrt(3) - 17)^(1/3) + 1/3}\n",
      "********************\n"
     ]
    },
    {
     "data": {
      "text/plain": [
       "-1/6*(3*sqrt(11)*sqrt(3) - 17)^(1/3)*(I*sqrt(3) + 1) + 1/3*(-I*sqrt(3) + 1)/(3*sqrt(11)*sqrt(3) - 17)^(1/3) + 1/3"
      ]
     },
     "execution_count": 131,
     "metadata": {},
     "output_type": "execute_result"
    }
   ],
   "source": [
    "my_function, l = find_lambda(1,1,1); print('*'*20); l"
   ]
  },
  {
   "cell_type": "code",
   "execution_count": 79,
   "metadata": {},
   "outputs": [
    {
     "data": {
      "text/plain": [
       "l^3 - l^2 + 3*l + 4"
      ]
     },
     "execution_count": 79,
     "metadata": {},
     "output_type": "execute_result"
    }
   ],
   "source": [
    "my_function"
   ]
  },
  {
   "cell_type": "code",
   "execution_count": 132,
   "metadata": {},
   "outputs": [
    {
     "name": "stdout",
     "output_type": "stream",
     "text": [
      "**********\n",
      "1\n",
      "**********\n",
      "-1/6*(3*sqrt(11)*sqrt(3) - 17)^(1/3)*(I*sqrt(3) + 1) + 1/3*(-I*sqrt(3) + 1)/(3*sqrt(11)*sqrt(3) - 17)^(1/3) + 1/3\n",
      "**********\n",
      "1/36*((3*sqrt(11)*sqrt(3) - 17)^(1/3)*(I*sqrt(3) + 1) - 2*(-I*sqrt(3) + 1)/(3*sqrt(11)*sqrt(3) - 17)^(1/3) - 2)^2\n"
     ]
    }
   ],
   "source": [
    "freeGroup = create_freeGroup(l)\n",
    "\n",
    "for item in freeGroup:\n",
    "    print('*'*10)\n",
    "    print(item)"
   ]
  },
  {
   "cell_type": "code",
   "execution_count": 119,
   "metadata": {},
   "outputs": [],
   "source": [
    "def create_polys(freeGroup):\n",
    "    poly_list = [generate_poly(freeGroup[0],freeGroup[1]),\n",
    "                 generate_poly(freeGroup[1],freeGroup[2]),\n",
    "                 generate_poly(freeGroup[0],freeGroup[2])]\n",
    "    return poly_list"
   ]
  },
  {
   "cell_type": "code",
   "execution_count": 126,
   "metadata": {},
   "outputs": [],
   "source": [
    "def generate_poly(u,w):\n",
    "    ux,uy =real(u), imag(u)\n",
    "    wx,wy = real(w), imag(w)\n",
    "    return polygon([(0,0),(ux,uy),(ux+wx,uy+wy),(wx,wy)],fill=False)"
   ]
  },
  {
   "cell_type": "code",
   "execution_count": 130,
   "metadata": {},
   "outputs": [
    {
     "data": {
      "text/plain": [
       "[1,\n",
       " 1/3*(1/2)^(1/3)*(3*sqrt(731)*sqrt(3) - 133)^(1/3) - 16/3*(1/2)^(2/3)/(3*sqrt(731)*sqrt(3) - 133)^(1/3) + 1/3,\n",
       " 1/9*((1/2)^(1/3)*(3*sqrt(731)*sqrt(3) - 133)^(1/3) - 16*(1/2)^(2/3)/(3*sqrt(731)*sqrt(3) - 133)^(1/3) + 1)^2]"
      ]
     },
     "execution_count": 130,
     "metadata": {},
     "output_type": "execute_result"
    }
   ],
   "source": [
    "freeGroup"
   ]
  },
  {
   "cell_type": "code",
   "execution_count": 133,
   "metadata": {},
   "outputs": [],
   "source": [
    "sample = create_polys(freeGroup)"
   ]
  },
  {
   "cell_type": "code",
   "execution_count": 134,
   "metadata": {},
   "outputs": [
    {
     "data": {
      "image/png": "[encoded data removed]",
      "text/plain": [
       "Graphics object consisting of 3 graphics primitives"
      ]
     },
     "metadata": {},
     "output_type": "display_data"
    }
   ],
   "source": [
    "show( sum(sample) )"
   ]
  },
  {
   "cell_type": "code",
   "execution_count": 111,
   "metadata": {},
   "outputs": [],
   "source": [
    "u = 1 + 2j; w = 2 - 4\n"
   ]
  },
  {
   "cell_type": "code",
   "execution_count": 102,
   "metadata": {},
   "outputs": [
    {
     "data": {
      "text/plain": [
       "[1.00000000000000, 2.00000000000000]"
      ]
     },
     "execution_count": 102,
     "metadata": {},
     "output_type": "execute_result"
    }
   ],
   "source": [
    "u = [real(u), imag(u)]\n",
    "w = [real(w), imag(w)]"
   ]
  },
  {
   "cell_type": "code",
   "execution_count": 103,
   "metadata": {},
   "outputs": [
    {
     "data": {
      "text/plain": [
       "[1.00000000000000, 2.00000000000000, 1.00000000000000, 2.00000000000000]"
      ]
     },
     "execution_count": 103,
     "metadata": {},
     "output_type": "execute_result"
    }
   ],
   "source": [
    "u+u"
   ]
  },
  {
   "cell_type": "code",
   "execution_count": 120,
   "metadata": {},
   "outputs": [],
   "source": [
    "out = generate_poly(u,w)"
   ]
  },
  {
   "cell_type": "code",
   "execution_count": 135,
   "metadata": {},
   "outputs": [
    {
     "data": {
      "text/plain": [
       "-1/6*(3*sqrt(11)*sqrt(3) - 17)^(1/3)*(I*sqrt(3) + 1) + 1/3*(-I*sqrt(3) + 1)/(3*sqrt(11)*sqrt(3) - 17)^(1/3) + 1/3"
      ]
     },
     "execution_count": 135,
     "metadata": {},
     "output_type": "execute_result"
    }
   ],
   "source": [
    "l"
   ]
  },
  {
   "cell_type": "code",
   "execution_count": null,
   "metadata": {},
   "outputs": [],
   "source": []
  }
 ],
 "metadata": {
  "kernelspec": {
   "display_name": "SageMath 8.6",
   "language": "",
   "name": "sagemath"
  },
  "language_info": {
   "codemirror_mode": {
    "name": "ipython",
    "version": 2
   },
   "file_extension": ".py",
   "mimetype": "text/x-python",
   "name": "python",
   "nbconvert_exporter": "python",
   "pygments_lexer": "ipython2",
   "version": "2.7.16"
  }
 },
 "nbformat": 4,
 "nbformat_minor": 2
}
